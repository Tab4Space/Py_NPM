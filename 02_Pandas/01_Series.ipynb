{
 "cells": [
  {
   "cell_type": "markdown",
   "metadata": {},
   "source": [
    "Pandas 패키지는 데이터 분석에서 많이 쓰이는 패키지 중 하나로 CSV 파일 등의 데이터를 읽고 원하는 데이터 형식으로 변환한다. 데이터는 보통 Serise나 DataFrame 클래스 형태로 표현하고 속성이나 메소드를 이용해 데이터를 추출, 가공한다.\n",
    "\n",
    "- Series : 1차원 배열과 비슷하지만 인덱스를 붙일 수 있다.\n",
    "- DataFrame : 2차원 배열과 비슷하지만 Serise와 마찬가지로 인덱스를 붙일 수 있다. 인덱스는 행, 열 방향으로 붙일 수 있다."
   ]
  },
  {
   "cell_type": "markdown",
   "metadata": {},
   "source": [
    "## Pandas 패키지 임포트\n",
    "관례적으로 'Pandas' 패키지는 'pd'라고 aliasing을 붙인다."
   ]
  },
  {
   "cell_type": "code",
   "execution_count": 2,
   "metadata": {
    "collapsed": true
   },
   "outputs": [],
   "source": [
    "import pandas as pd\n",
    "import numpy as np"
   ]
  },
  {
   "cell_type": "markdown",
   "metadata": {},
   "source": [
    "## Series\n",
    "Series의 생성은 아래와 같이 할 수 있다."
   ]
  },
  {
   "cell_type": "code",
   "execution_count": 7,
   "metadata": {},
   "outputs": [
    {
     "data": {
      "text/plain": [
       "1월    10000\n",
       "2월    20000\n",
       "3월    30000\n",
       "4월    40000\n",
       "dtype: int64"
      ]
     },
     "execution_count": 7,
     "metadata": {},
     "output_type": "execute_result"
    }
   ],
   "source": [
    "mySeries = pd.Series([10000, 20000, 30000, 40000], index=['1월', '2월', '3월', '4월'])\n",
    "mySeries"
   ]
  },
  {
   "cell_type": "markdown",
   "metadata": {},
   "source": [
    "인덱스를 따로 지정하지 않으면 0부터 시작하는 정수로 이뤄진 값이 인덱스가 된다."
   ]
  },
  {
   "cell_type": "code",
   "execution_count": 5,
   "metadata": {},
   "outputs": [
    {
     "data": {
      "text/plain": [
       "0    10\n",
       "1    20\n",
       "2    30\n",
       "3    40\n",
       "dtype: int64"
      ]
     },
     "execution_count": 5,
     "metadata": {},
     "output_type": "execute_result"
    }
   ],
   "source": [
    "pd.Series(range(10, 50, 10))"
   ]
  },
  {
   "cell_type": "markdown",
   "metadata": {},
   "source": [
    "### Series 속성\n",
    "- name\n",
    "- index\n",
    "- value"
   ]
  },
  {
   "cell_type": "code",
   "execution_count": 13,
   "metadata": {},
   "outputs": [
    {
     "name": "stdout",
     "output_type": "stream",
     "text": [
      "월\n",
      "1월    10000\n",
      "2월    20000\n",
      "3월    30000\n",
      "4월    40000\n",
      "Name: 매출액, dtype: int64\n"
     ]
    }
   ],
   "source": [
    "mySeries.name = '매출액'\n",
    "mySeries.index.name = '월'\n",
    "print(mySeries)"
   ]
  },
  {
   "cell_type": "code",
   "execution_count": 14,
   "metadata": {},
   "outputs": [
    {
     "name": "stdout",
     "output_type": "stream",
     "text": [
      "Index(['1월', '2월', '3월', '4월'], dtype='object', name='월')\n",
      "[10000 20000 30000 40000]\n"
     ]
    }
   ],
   "source": [
    "print(mySeries.index)\n",
    "print(mySeries.values)"
   ]
  },
  {
   "cell_type": "markdown",
   "metadata": {},
   "source": [
    "Series 객체는 NumPy의 배열처럼 Vectorized Opteration 기능을 제공한다."
   ]
  },
  {
   "cell_type": "code",
   "execution_count": 16,
   "metadata": {},
   "outputs": [
    {
     "data": {
      "text/plain": [
       "월\n",
       "1월    1000.0\n",
       "2월    2000.0\n",
       "3월    3000.0\n",
       "4월    4000.0\n",
       "Name: 매출액, dtype: float64"
      ]
     },
     "execution_count": 16,
     "metadata": {},
     "output_type": "execute_result"
    }
   ],
   "source": [
    "mySeries / 10"
   ]
  },
  {
   "cell_type": "markdown",
   "metadata": {},
   "source": [
    "### 인덱싱 & 슬라이싱 & 인덱싱 기반 연산\n",
    "Series 객체는 리스트나 배열과 동일한 인덱싱&슬라이싱을 사용할 수 있으며, 추가로 인덱스 label을 이용한 인덱싱&슬라이싱을 사용할 수 있다.\n",
    "단, 문자열로 슬라이싱을 할 경우 정수 콜론 뒤에 오는 인덱스 값도 포함된다."
   ]
  },
  {
   "cell_type": "markdown",
   "metadata": {},
   "source": [
    "#### 인덱싱 & 슬라이싱"
   ]
  },
  {
   "cell_type": "code",
   "execution_count": 19,
   "metadata": {},
   "outputs": [
    {
     "data": {
      "text/plain": [
       "(10000, 10000)"
      ]
     },
     "execution_count": 19,
     "metadata": {},
     "output_type": "execute_result"
    }
   ],
   "source": [
    "mySeries[0], mySeries['1월']"
   ]
  },
  {
   "cell_type": "code",
   "execution_count": 20,
   "metadata": {},
   "outputs": [
    {
     "data": {
      "text/plain": [
       "(월\n",
       " 1월    10000\n",
       " 2월    20000\n",
       " Name: 매출액, dtype: int64, 월\n",
       " 1월    10000\n",
       " 2월    20000\n",
       " 3월    30000\n",
       " Name: 매출액, dtype: int64)"
      ]
     },
     "execution_count": 20,
     "metadata": {},
     "output_type": "execute_result"
    }
   ],
   "source": [
    "mySeries[0:2], mySeries['1월':'3월']"
   ]
  },
  {
   "cell_type": "code",
   "execution_count": 22,
   "metadata": {},
   "outputs": [
    {
     "data": {
      "text/plain": [
       "월\n",
       "1월    10000\n",
       "4월    40000\n",
       "2월    20000\n",
       "Name: 매출액, dtype: int64"
      ]
     },
     "execution_count": 22,
     "metadata": {},
     "output_type": "execute_result"
    }
   ],
   "source": [
    "# 아래와 같이 인덱싱을 통해 데이터의 숫자를 바꾸거나 원하는 데이터만 선택할 수 있다.\n",
    "\n",
    "mySeries[[0, 3, 1]]"
   ]
  },
  {
   "cell_type": "code",
   "execution_count": 24,
   "metadata": {},
   "outputs": [
    {
     "data": {
      "text/plain": [
       "월\n",
       "2월    20000\n",
       "3월    30000\n",
       "4월    40000\n",
       "Name: 매출액, dtype: int64"
      ]
     },
     "execution_count": 24,
     "metadata": {},
     "output_type": "execute_result"
    }
   ],
   "source": [
    "# 또한, 질의를 사용한 인덱싱이 가능하다.\n",
    "\n",
    "mySeries[10000 < mySeries]"
   ]
  },
  {
   "cell_type": "code",
   "execution_count": 30,
   "metadata": {},
   "outputs": [
    {
     "name": "stdout",
     "output_type": "stream",
     "text": [
      "a    0\n",
      "b    1\n",
      "c    2\n",
      "d    3\n",
      "dtype: int64\n",
      "0\n",
      "2\n"
     ]
    }
   ],
   "source": [
    "# 인덱스 label 값이 문자열이면 속성처럼 dot(.)를 이용해 접근할 수 있다.\n",
    "\n",
    "mySeries2 = pd.Series(range(4), index=['a', 'b', 'c', 'd'])\n",
    "print(mySeries2)\n",
    "print(mySeries2.a)\n",
    "print(mySeries2.c)"
   ]
  },
  {
   "cell_type": "markdown",
   "metadata": {},
   "source": [
    "#### 인덱스 연산"
   ]
  },
  {
   "cell_type": "code",
   "execution_count": 34,
   "metadata": {},
   "outputs": [
    {
     "name": "stdout",
     "output_type": "stream",
     "text": [
      "1월    50000\n",
      "2월    40000\n",
      "3월    70000\n",
      "4월    20000\n",
      "5월    10000\n",
      "dtype: int64\n",
      "1월     30000\n",
      "2월     60000\n",
      "3월    100000\n",
      "4월     80000\n",
      "dtype: int64\n"
     ]
    }
   ],
   "source": [
    "data2016 = pd.Series([50000, 40000, 70000, 20000, 10000], index=['1월', '2월', '3월', '4월', '5월'])\n",
    "data2017 = pd.Series([30000, 60000, 100000, 80000], index=['1월', '2월', '3월', '4월'])\n",
    "\n",
    "print(data2016)\n",
    "print(data2017)"
   ]
  },
  {
   "cell_type": "markdown",
   "metadata": {},
   "source": [
    "두 개의 Series에서 연산을 하는 경우 인덱스가 같은 데이터를 찾아 차이를 구할 수 있다. 만약 서로 인덱스가 일치하지 않는 데이터가 있다면 해당 데이터는 'NaN'으로 표시된다. "
   ]
  },
  {
   "cell_type": "code",
   "execution_count": 35,
   "metadata": {},
   "outputs": [
    {
     "data": {
      "text/plain": [
       "1월   -20000.0\n",
       "2월    20000.0\n",
       "3월    30000.0\n",
       "4월    60000.0\n",
       "5월        NaN\n",
       "dtype: float64"
      ]
     },
     "execution_count": 35,
     "metadata": {},
     "output_type": "execute_result"
    }
   ],
   "source": [
    "diff = data2017 - data2016\n",
    "diff"
   ]
  },
  {
   "cell_type": "code",
   "execution_count": 37,
   "metadata": {},
   "outputs": [
    {
     "name": "stdout",
     "output_type": "stream",
     "text": [
      "1월     True\n",
      "2월     True\n",
      "3월     True\n",
      "4월     True\n",
      "5월    False\n",
      "dtype: bool\n",
      "1월   -20000.0\n",
      "2월    20000.0\n",
      "3월    30000.0\n",
      "4월    60000.0\n",
      "dtype: float64\n"
     ]
    }
   ],
   "source": [
    "print(diff.notnull())\n",
    "print(diff[diff.notnull()])"
   ]
  },
  {
   "cell_type": "markdown",
   "metadata": {},
   "source": [
    "#### Series & Dictionary\n",
    "Series 객체는 인덱스 label <-> 값 관계로 이뤄져 있어 Dictionary 구조와 같다고 볼 수 있다.\n",
    "\n",
    "또한, dictionary 객체를 사용하여 Series 객체를 만들수도 있다. 단, 데이터의 순서가 보장되지 않으므로 순서를 정하고 싶으면 인덱스를 따로 지정해야 한다."
   ]
  },
  {
   "cell_type": "code",
   "execution_count": 41,
   "metadata": {},
   "outputs": [
    {
     "data": {
      "text/plain": [
       "True"
      ]
     },
     "execution_count": 41,
     "metadata": {},
     "output_type": "execute_result"
    }
   ],
   "source": [
    "'1월' in data2017"
   ]
  },
  {
   "cell_type": "code",
   "execution_count": 43,
   "metadata": {},
   "outputs": [
    {
     "name": "stdout",
     "output_type": "stream",
     "text": [
      "1월 = 30000\n",
      "2월 = 60000\n",
      "3월 = 100000\n",
      "4월 = 80000\n"
     ]
    }
   ],
   "source": [
    "for k, v in data2017.iteritems():\n",
    "    print(\"%s = %d\" % (k, v))"
   ]
  },
  {
   "cell_type": "code",
   "execution_count": 48,
   "metadata": {},
   "outputs": [
    {
     "data": {
      "text/plain": [
       "1월    52000\n",
       "2월    68000\n",
       "3월    78000\n",
       "4월    40000\n",
       "dtype: int64"
      ]
     },
     "execution_count": 48,
     "metadata": {},
     "output_type": "execute_result"
    }
   ],
   "source": [
    "myDict = {'1월':52000, '3월':78000, '4월': 40000, '2월': 68000}\n",
    "data2018 = pd.Series(myDict)\n",
    "data2018"
   ]
  },
  {
   "cell_type": "code",
   "execution_count": 47,
   "metadata": {},
   "outputs": [
    {
     "data": {
      "text/plain": [
       "4월    68000\n",
       "3월    40000\n",
       "2월    78000\n",
       "1월    52000\n",
       "dtype: int64"
      ]
     },
     "execution_count": 47,
     "metadata": {},
     "output_type": "execute_result"
    }
   ],
   "source": [
    "data2018 = pd.Series(myDict, index=['4월', '3월', '2월', '1월'])\n",
    "data2018"
   ]
  },
  {
   "cell_type": "markdown",
   "metadata": {},
   "source": [
    "또한, Dictionary와 마찬가지로 데이터를 추가/삭제/갱신이 가능하다."
   ]
  },
  {
   "cell_type": "code",
   "execution_count": 49,
   "metadata": {},
   "outputs": [
    {
     "data": {
      "text/plain": [
       "1월     52000\n",
       "2월     68000\n",
       "3월     78000\n",
       "4월     40000\n",
       "5월    120000\n",
       "dtype: int64"
      ]
     },
     "execution_count": 49,
     "metadata": {},
     "output_type": "execute_result"
    }
   ],
   "source": [
    "data2018['5월'] = 120000\n",
    "data2018"
   ]
  },
  {
   "cell_type": "code",
   "execution_count": 50,
   "metadata": {},
   "outputs": [
    {
     "data": {
      "text/plain": [
       "1월     90000\n",
       "2월     68000\n",
       "3월     78000\n",
       "4월     40000\n",
       "5월    120000\n",
       "dtype: int64"
      ]
     },
     "execution_count": 50,
     "metadata": {},
     "output_type": "execute_result"
    }
   ],
   "source": [
    "data2018['1월'] = 90000\n",
    "data2018"
   ]
  },
  {
   "cell_type": "code",
   "execution_count": 51,
   "metadata": {},
   "outputs": [
    {
     "data": {
      "text/plain": [
       "1월     90000\n",
       "2월     68000\n",
       "4월     40000\n",
       "5월    120000\n",
       "dtype: int64"
      ]
     },
     "execution_count": 51,
     "metadata": {},
     "output_type": "execute_result"
    }
   ],
   "source": [
    "del data2018['3월']\n",
    "data2018"
   ]
  },
  {
   "cell_type": "code",
   "execution_count": null,
   "metadata": {
    "collapsed": true
   },
   "outputs": [],
   "source": []
  }
 ],
 "metadata": {
  "kernelspec": {
   "display_name": "Python 3",
   "language": "python",
   "name": "python3"
  },
  "language_info": {
   "codemirror_mode": {
    "name": "ipython",
    "version": 3
   },
   "file_extension": ".py",
   "mimetype": "text/x-python",
   "name": "python",
   "nbconvert_exporter": "python",
   "pygments_lexer": "ipython3",
   "version": "3.6.1"
  }
 },
 "nbformat": 4,
 "nbformat_minor": 2
}
