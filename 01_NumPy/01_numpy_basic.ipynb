{
 "cells": [
  {
   "cell_type": "markdown",
   "metadata": {},
   "source": [
    "파이썬에서는 하나의 변수에 여러 데이터를 넣는 방법으로 '리스트'를 사용한다. 하지만 리스트는 메모리를 많이 차지하고 속도가 느린 단점이 있다. 이러한 단점을 보완하기 위해선 배열(Array)를 사용하는 것이 좋다. 파이썬에서는 'NumPy'라는 패키지를 사용하여 배열을 사용할 수 있다. 'NumPy'에서 제공하는 배열과 파이썬에서 기본으로 제공하는 리스트에는 두 가지 차이가 있다.\n",
    "\n",
    "1. 리스트에는 element의 type이 달라도 되지만 배열에서는 동일해야 한다.\n",
    "2. 배열에서는 element 개수를 변경할 수 없다.\n",
    "\n",
    "'NumPy'에서 구현된 반복문은 C로 구현되어 있어 속도가 빠르고 vectorized operation을 제공해 간단한 코드로 선형대수 연산을 수행할 수 있다.\n",
    "또한, 배열 인덱싱을 사용한 질의 기능을 이용해 간단한 코드로 복잡한 연산을 수행할 수 있다."
   ]
  },
  {
   "cell_type": "markdown",
   "metadata": {},
   "source": [
    "## NumPy 패키지 임포트\n",
    "관례적으로 'numpy' 패키지는 'np'라고 aliasing을 붙인다."
   ]
  },
  {
   "cell_type": "code",
   "execution_count": 1,
   "metadata": {
    "collapsed": true
   },
   "outputs": [],
   "source": [
    "import numpy as np"
   ]
  },
  {
   "cell_type": "markdown",
   "metadata": {},
   "source": [
    "## 배열 생성 1\n",
    "배열을 생성하기 위한 가장 쉬운 방법으로는 아래와 같이 리스트 객체를 사용하여 N차원의 배열을 만들수 있다.\n"
   ]
  },
  {
   "cell_type": "code",
   "execution_count": 2,
   "metadata": {},
   "outputs": [
    {
     "data": {
      "text/plain": [
       "array([0, 1, 2, 3, 4, 5, 6, 7, 8, 9])"
      ]
     },
     "execution_count": 2,
     "metadata": {},
     "output_type": "execute_result"
    }
   ],
   "source": [
    "dim_1_array = np.array([0, 1, 2, 3, 4, 5, 6, 7, 8, 9])\n",
    "dim_1_array"
   ]
  },
  {
   "cell_type": "code",
   "execution_count": 3,
   "metadata": {},
   "outputs": [
    {
     "data": {
      "text/plain": [
       "array([[10, 20, 30, 40],\n",
       "       [50, 60, 70, 80]])"
      ]
     },
     "execution_count": 3,
     "metadata": {},
     "output_type": "execute_result"
    }
   ],
   "source": [
    "dim_2_array = np.array([[10, 20, 30, 40], [50, 60, 70, 80]])\n",
    "dim_2_array"
   ]
  },
  {
   "cell_type": "code",
   "execution_count": 4,
   "metadata": {},
   "outputs": [
    {
     "data": {
      "text/plain": [
       "array([[[ 1,  2,  3,  4],\n",
       "        [ 5,  6,  7,  8],\n",
       "        [ 9, 10, 11, 12]],\n",
       "\n",
       "       [[11, 12, 13, 14],\n",
       "        [15, 16, 17, 18],\n",
       "        [19, 20, 21, 22]]])"
      ]
     },
     "execution_count": 4,
     "metadata": {},
     "output_type": "execute_result"
    }
   ],
   "source": [
    "dim_3_array = arr3dim = np.array([\n",
    "    [[1, 2, 3, 4], [5, 6, 7, 8], [9, 10, 11, 12]],\n",
    "    [[11, 12, 13, 14], [15, 16, 17, 18], [19, 20, 21, 22]]\n",
    "])\n",
    "dim_3_array"
   ]
  },
  {
   "cell_type": "markdown",
   "metadata": {},
   "source": [
    "## 배열 생성 2\n",
    "리스트를 이용해 배열을 생성하는 방법 이외에서 zeros, ones, arange 등을 사용해 배열을 생성할 수 있다.\n",
    "\n",
    "또한, 선형 구간 혹튼 로그 구간을 지정한 구간의 수만큼 분할된 배열을 생성하거나 임의의 난수가 분포된 랜덤 배열을 생성할 수도 있다."
   ]
  },
  {
   "cell_type": "code",
   "execution_count": 5,
   "metadata": {},
   "outputs": [
    {
     "data": {
      "text/plain": [
       "array([[0, 0],\n",
       "       [0, 0]], dtype=int32)"
      ]
     },
     "execution_count": 5,
     "metadata": {},
     "output_type": "execute_result"
    }
   ],
   "source": [
    "zeros_array = np.zeros(shape=(2, 2), dtype=np.int32)\n",
    "zeros_array"
   ]
  },
  {
   "cell_type": "code",
   "execution_count": 6,
   "metadata": {},
   "outputs": [
    {
     "data": {
      "text/plain": [
       "array([[ 1.,  1.],\n",
       "       [ 1.,  1.]], dtype=float16)"
      ]
     },
     "execution_count": 6,
     "metadata": {},
     "output_type": "execute_result"
    }
   ],
   "source": [
    "ones_array = np.ones(shape=(2, 2), dtype=np.float16)\n",
    "ones_array"
   ]
  },
  {
   "cell_type": "code",
   "execution_count": 7,
   "metadata": {},
   "outputs": [
    {
     "data": {
      "text/plain": [
       "array([0, 1, 2, 3, 4, 5, 6, 7, 8, 9])"
      ]
     },
     "execution_count": 7,
     "metadata": {},
     "output_type": "execute_result"
    }
   ],
   "source": [
    "arange_array = np.arange(10)\n",
    "arange_array"
   ]
  },
  {
   "cell_type": "code",
   "execution_count": 8,
   "metadata": {},
   "outputs": [
    {
     "data": {
      "text/plain": [
       "array([   0.,   25.,   50.,   75.,  100.])"
      ]
     },
     "execution_count": 8,
     "metadata": {},
     "output_type": "execute_result"
    }
   ],
   "source": [
    "linspace_array = np.linspace(0, 100, 5)\n",
    "linspace_array"
   ]
  },
  {
   "cell_type": "code",
   "execution_count": 9,
   "metadata": {},
   "outputs": [
    {
     "data": {
      "text/plain": [
       "array([  1.00000000e+00,   2.15443469e+01,   4.64158883e+02,\n",
       "         1.00000000e+04])"
      ]
     },
     "execution_count": 9,
     "metadata": {},
     "output_type": "execute_result"
    }
   ],
   "source": [
    "logspace = np.logspace(0, 4, 4)\n",
    "logspace"
   ]
  },
  {
   "cell_type": "code",
   "execution_count": 10,
   "metadata": {},
   "outputs": [
    {
     "name": "stdout",
     "output_type": "stream",
     "text": [
      "[ 0.5488135   0.71518937  0.60276338  0.54488318]\n",
      "[[ 0.4236548   0.64589411  0.43758721  0.891773    0.96366276]\n",
      " [ 0.38344152  0.79172504  0.52889492  0.56804456  0.92559664]\n",
      " [ 0.07103606  0.0871293   0.0202184   0.83261985  0.77815675]]\n"
     ]
    }
   ],
   "source": [
    "np.random.seed(0)\n",
    "print(np.random.rand(4))\n",
    "print(np.random.rand(3, 5))"
   ]
  },
  {
   "cell_type": "markdown",
   "metadata": {},
   "source": [
    "## 배열의 차원과 모양\n",
    "ndim과 shape 속성을 이용해 배열의 차원과 모양을 알 수 있다."
   ]
  },
  {
   "cell_type": "code",
   "execution_count": 11,
   "metadata": {},
   "outputs": [
    {
     "name": "stdout",
     "output_type": "stream",
     "text": [
      "배열의 차원을 출력합니다.\n",
      "1\n",
      "2\n",
      "3\n"
     ]
    }
   ],
   "source": [
    "print(\"배열의 차원을 출력합니다.\")\n",
    "print(dim_1_array.ndim)\n",
    "print(dim_2_array.ndim)\n",
    "print(dim_3_array.ndim)"
   ]
  },
  {
   "cell_type": "code",
   "execution_count": 12,
   "metadata": {},
   "outputs": [
    {
     "name": "stdout",
     "output_type": "stream",
     "text": [
      "배열의 모양을 출력합니다.\n",
      "(10,)\n",
      "(2, 4)\n",
      "(2, 3, 4)\n"
     ]
    }
   ],
   "source": [
    "print(\"배열의 모양을 출력합니다.\")\n",
    "print(dim_1_array.shape)\n",
    "print(dim_2_array.shape)\n",
    "print(dim_3_array.shape)"
   ]
  },
  {
   "cell_type": "markdown",
   "metadata": {},
   "source": [
    "## 배열 인덱싱&슬라이싱\n",
    "배열에서도 리스트와 마찬가지로 인덱싱과 슬라이싱 기능을 사용할 수 있습니다."
   ]
  },
  {
   "cell_type": "code",
   "execution_count": 13,
   "metadata": {},
   "outputs": [
    {
     "name": "stdout",
     "output_type": "stream",
     "text": [
      "0\n",
      "9\n",
      "[0 1 2 3 4 5]\n"
     ]
    }
   ],
   "source": [
    "print(dim_1_array[0])\n",
    "print(dim_1_array[-1])\n",
    "print(dim_1_array[:6])"
   ]
  },
  {
   "cell_type": "code",
   "execution_count": 14,
   "metadata": {},
   "outputs": [
    {
     "name": "stdout",
     "output_type": "stream",
     "text": [
      "10\n",
      "80\n",
      "[[10 20 30]]\n"
     ]
    }
   ],
   "source": [
    "print(dim_2_array[0][0])\n",
    "print(dim_2_array[-1][-1])\n",
    "print(dim_2_array[:1, :3])"
   ]
  },
  {
   "cell_type": "code",
   "execution_count": 15,
   "metadata": {},
   "outputs": [
    {
     "name": "stdout",
     "output_type": "stream",
     "text": [
      "1\n",
      "22\n",
      "[[[1 2 3]\n",
      "  [5 6 7]]]\n"
     ]
    }
   ],
   "source": [
    "print(dim_3_array[0][0][0])\n",
    "print(dim_3_array[-1][-1][-1])\n",
    "print(dim_3_array[:1, :2, :3])"
   ]
  },
  {
   "cell_type": "markdown",
   "metadata": {},
   "source": [
    "## Fancy Indexing\n",
    "'Fancy Indexing'은 배열 인덱싱 방법 중 하나로 질의문을 통해 인덱싱을 수행할 수 있는 기능이다."
   ]
  },
  {
   "cell_type": "code",
   "execution_count": 16,
   "metadata": {},
   "outputs": [
    {
     "name": "stdout",
     "output_type": "stream",
     "text": [
      "[0 2 4 6 8]\n"
     ]
    }
   ],
   "source": [
    "print(dim_1_array[dim_1_array % 2 == 0])"
   ]
  }
 ],
 "metadata": {
  "kernelspec": {
   "display_name": "Python 3",
   "language": "python",
   "name": "python3"
  },
  "language_info": {
   "codemirror_mode": {
    "name": "ipython",
    "version": 3
   },
   "file_extension": ".py",
   "mimetype": "text/x-python",
   "name": "python",
   "nbconvert_exporter": "python",
   "pygments_lexer": "ipython3",
   "version": "3.6.1"
  }
 },
 "nbformat": 4,
 "nbformat_minor": 2
}
